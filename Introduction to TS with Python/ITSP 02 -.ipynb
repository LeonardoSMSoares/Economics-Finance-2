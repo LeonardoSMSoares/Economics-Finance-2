{
 "cells": [
  {
   "cell_type": "code",
   "execution_count": 1,
   "id": "56c4f0a5-c352-47e1-b64b-1b163cc817eb",
   "metadata": {},
   "outputs": [],
   "source": [
    "import numpy as np\n",
    "import pandas as pd\n",
    "\n",
    "import seaborn as sns\n",
    "import matplotlib.pyplot as plt\n",
    "%matplotlib inline"
   ]
  },
  {
   "cell_type": "markdown",
   "id": "714329b7-80f1-4f95-ae29-421ffbce9d46",
   "metadata": {},
   "source": [
    "# Chapter 7 - Resampling and Interpolation"
   ]
  },
  {
   "cell_type": "code",
   "execution_count": null,
   "id": "fb9851d0-d240-4d82-826f-1a25963624bb",
   "metadata": {},
   "outputs": [],
   "source": []
  }
 ],
 "metadata": {
  "kernelspec": {
   "display_name": "Python 3 (ipykernel)",
   "language": "python",
   "name": "python3"
  },
  "language_info": {
   "codemirror_mode": {
    "name": "ipython",
    "version": 3
   },
   "file_extension": ".py",
   "mimetype": "text/x-python",
   "name": "python",
   "nbconvert_exporter": "python",
   "pygments_lexer": "ipython3",
   "version": "3.12.7"
  }
 },
 "nbformat": 4,
 "nbformat_minor": 5
}
