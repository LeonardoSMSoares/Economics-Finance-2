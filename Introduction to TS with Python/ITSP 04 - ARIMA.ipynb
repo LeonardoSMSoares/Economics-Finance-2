{
 "cells": [
  {
   "cell_type": "code",
   "execution_count": 1,
   "id": "d38ebd07-bd11-4208-9b38-dfa90c82b225",
   "metadata": {},
   "outputs": [],
   "source": [
    "import numpy as np\n",
    "import pandas as pd\n",
    "\n",
    "import seaborn as sns\n",
    "import matplotlib.pyplot as plt\n",
    "%matplotlib inline"
   ]
  },
  {
   "cell_type": "code",
   "execution_count": 15,
   "id": "8723ebc9-b733-42c6-8102-32598aff7fd9",
   "metadata": {},
   "outputs": [],
   "source": [
    "from math import sqrt\n",
    "from statsmodels.tsa.arima.model import ARIMA \n",
    "from sklearn.metrics import mean_squared_error\n",
    "from datetime import datetime\n",
    "\n",
    "import warnings\n",
    "warnings.filterwarnings(\"ignore\")"
   ]
  },
  {
   "cell_type": "markdown",
   "id": "b71087f5-ab4b-4c99-bd94-7f79e2d16f90",
   "metadata": {},
   "source": [
    "# Chapter 26 - Grid Search ARIMA Model Hyperparameters"
   ]
  },
  {
   "cell_type": "code",
   "execution_count": 6,
   "id": "3a55aecb-c44c-4ab0-9386-69108f9e558c",
   "metadata": {},
   "outputs": [
    {
     "data": {
      "text/html": [
       "<div>\n",
       "<style scoped>\n",
       "    .dataframe tbody tr th:only-of-type {\n",
       "        vertical-align: middle;\n",
       "    }\n",
       "\n",
       "    .dataframe tbody tr th {\n",
       "        vertical-align: top;\n",
       "    }\n",
       "\n",
       "    .dataframe thead th {\n",
       "        text-align: right;\n",
       "    }\n",
       "</style>\n",
       "<table border=\"1\" class=\"dataframe\">\n",
       "  <thead>\n",
       "    <tr style=\"text-align: right;\">\n",
       "      <th></th>\n",
       "      <th>Sales</th>\n",
       "    </tr>\n",
       "    <tr>\n",
       "      <th>Month</th>\n",
       "      <th></th>\n",
       "    </tr>\n",
       "  </thead>\n",
       "  <tbody>\n",
       "    <tr>\n",
       "      <th>1901-01-01</th>\n",
       "      <td>266.0</td>\n",
       "    </tr>\n",
       "    <tr>\n",
       "      <th>1901-02-01</th>\n",
       "      <td>145.9</td>\n",
       "    </tr>\n",
       "    <tr>\n",
       "      <th>1901-03-01</th>\n",
       "      <td>183.1</td>\n",
       "    </tr>\n",
       "    <tr>\n",
       "      <th>1901-04-01</th>\n",
       "      <td>119.3</td>\n",
       "    </tr>\n",
       "    <tr>\n",
       "      <th>1901-05-01</th>\n",
       "      <td>180.3</td>\n",
       "    </tr>\n",
       "  </tbody>\n",
       "</table>\n",
       "</div>"
      ],
      "text/plain": [
       "            Sales\n",
       "Month            \n",
       "1901-01-01  266.0\n",
       "1901-02-01  145.9\n",
       "1901-03-01  183.1\n",
       "1901-04-01  119.3\n",
       "1901-05-01  180.3"
      ]
     },
     "execution_count": 6,
     "metadata": {},
     "output_type": "execute_result"
    }
   ],
   "source": [
    "# Load the CSV without parsing dates\n",
    "url = 'https://raw.githubusercontent.com/jbrownlee/Datasets/master/shampoo.csv'\n",
    "df = pd.read_csv(url)\n",
    "\n",
    "# Convert 'Month' column to datetime using custom parser\n",
    "df['Month'] = pd.to_datetime('190' + df['Month'], format='%Y-%m')\n",
    "\n",
    "# Set it as the index\n",
    "df.set_index('Month', inplace=True)\n",
    "\n",
    "# Show result\n",
    "df.head()"
   ]
  },
  {
   "cell_type": "code",
   "execution_count": 12,
   "id": "ddd46851-fe9a-458c-b7a7-db5e5c88abcf",
   "metadata": {},
   "outputs": [],
   "source": [
    "# Evaluate a single ARIMA model with given (p,d,q)\n",
    "def evaluate_arima_model(X, arima_order):\n",
    "    train_size = int(len(X) * 0.66)                          # Split 66% for training\n",
    "    train, test = X[0:train_size], X[train_size:]\n",
    "    history = [x for x in train]                             # Start with training data\n",
    "    predictions = []                                         # Store predictions\n",
    "\n",
    "    for t in range(len(test)):\n",
    "        model = ARIMA(history, order=arima_order)            # Fit ARIMA on current history\n",
    "        model_fit = model.fit()                              # Remove disp=0\n",
    "        yhat = float(model_fit.forecast()[0])                # Forecast next step\n",
    "        predictions.append(yhat)                             # Save prediction\n",
    "        history.append(test[t])                              # Update history with actual\n",
    "\n",
    "    rmse = sqrt(mean_squared_error(test, predictions))       # Calculate RMSE\n",
    "    return rmse"
   ]
  },
  {
   "cell_type": "code",
   "execution_count": 23,
   "id": "c315f022-632d-4e82-8fb2-5066d5073795",
   "metadata": {},
   "outputs": [],
   "source": [
    "# Evaluate a grid of (p,d,q) combinations\n",
    "def evaluate_models(dataset, p_values, d_values, q_values):\n",
    "    dataset = dataset.astype('float32')\n",
    "    best_score, best_cfg = float(\"inf\"), None\n",
    "\n",
    "    for p in p_values:\n",
    "        for d in d_values:\n",
    "            for q in q_values:\n",
    "                order = (p, d, q)\n",
    "                try:\n",
    "                    rmse = evaluate_arima_model(dataset, order)\n",
    "                    if rmse < best_score:\n",
    "                        best_score, best_cfg = rmse, order\n",
    "                    #print(f'ARIMA{order} RMSE={rmse:.3f}')\n",
    "                except Exception as e:\n",
    "                    #print(f'ARIMA{order} failed: {e}')        # Print error to debug\n",
    "                    continue\n",
    "\n",
    "    print(f'Best ARIMA{best_cfg} RMSE={best_score:.3f}')"
   ]
  },
  {
   "cell_type": "code",
   "execution_count": 18,
   "id": "2cc0f5f4-b5fb-4dfc-bba2-3e006ae5ad46",
   "metadata": {},
   "outputs": [
    {
     "name": "stdout",
     "output_type": "stream",
     "text": [
      "Best ARIMA(1, 2, 2) RMSE=65.511\n"
     ]
    }
   ],
   "source": [
    "# Example usage\n",
    "\n",
    "series = df['Sales']\n",
    "\n",
    "p_values = [0, 1, 2, 4, 6, 8, 10]\n",
    "d_values = range(0, 3)\n",
    "q_values = range(0, 3)\n",
    "\n",
    "warnings.filterwarnings(\"ignore\")\n",
    "\n",
    "evaluate_models(series.values, p_values, d_values, q_values)"
   ]
  },
  {
   "cell_type": "code",
   "execution_count": 20,
   "id": "a6f81098-8cde-4892-8853-f958d0b47d84",
   "metadata": {},
   "outputs": [
    {
     "data": {
      "text/html": [
       "<div>\n",
       "<style scoped>\n",
       "    .dataframe tbody tr th:only-of-type {\n",
       "        vertical-align: middle;\n",
       "    }\n",
       "\n",
       "    .dataframe tbody tr th {\n",
       "        vertical-align: top;\n",
       "    }\n",
       "\n",
       "    .dataframe thead th {\n",
       "        text-align: right;\n",
       "    }\n",
       "</style>\n",
       "<table border=\"1\" class=\"dataframe\">\n",
       "  <thead>\n",
       "    <tr style=\"text-align: right;\">\n",
       "      <th></th>\n",
       "      <th>Births</th>\n",
       "    </tr>\n",
       "    <tr>\n",
       "      <th>Date</th>\n",
       "      <th></th>\n",
       "    </tr>\n",
       "  </thead>\n",
       "  <tbody>\n",
       "    <tr>\n",
       "      <th>1959-01-01</th>\n",
       "      <td>35</td>\n",
       "    </tr>\n",
       "    <tr>\n",
       "      <th>1959-01-02</th>\n",
       "      <td>32</td>\n",
       "    </tr>\n",
       "    <tr>\n",
       "      <th>1959-01-03</th>\n",
       "      <td>30</td>\n",
       "    </tr>\n",
       "    <tr>\n",
       "      <th>1959-01-04</th>\n",
       "      <td>31</td>\n",
       "    </tr>\n",
       "    <tr>\n",
       "      <th>1959-01-05</th>\n",
       "      <td>44</td>\n",
       "    </tr>\n",
       "  </tbody>\n",
       "</table>\n",
       "</div>"
      ],
      "text/plain": [
       "            Births\n",
       "Date              \n",
       "1959-01-01      35\n",
       "1959-01-02      32\n",
       "1959-01-03      30\n",
       "1959-01-04      31\n",
       "1959-01-05      44"
      ]
     },
     "execution_count": 20,
     "metadata": {},
     "output_type": "execute_result"
    }
   ],
   "source": [
    "url1 = ('https://raw.githubusercontent.com/jbrownlee/Datasets/refs/heads/master/daily-total-female-births.csv')\n",
    "df = pd.read_csv(url1, header=0, index_col=0, parse_dates=True)\n",
    "\n",
    "df.head()"
   ]
  },
  {
   "cell_type": "code",
   "execution_count": 24,
   "id": "7fc890ea-26a5-4b7e-af87-f1ad9582c633",
   "metadata": {},
   "outputs": [
    {
     "name": "stdout",
     "output_type": "stream",
     "text": [
      "ARIMA(0, 0, 0) RMSE=8.189\n",
      "ARIMA(0, 0, 1) RMSE=7.884\n",
      "ARIMA(0, 0, 2) RMSE=7.771\n",
      "ARIMA(0, 1, 0) RMSE=9.151\n",
      "ARIMA(0, 1, 1) RMSE=7.427\n",
      "ARIMA(0, 1, 2) RMSE=7.352\n",
      "ARIMA(0, 2, 0) RMSE=15.670\n",
      "ARIMA(0, 2, 1) RMSE=9.167\n",
      "ARIMA(0, 2, 2) RMSE=7.455\n",
      "ARIMA(1, 0, 0) RMSE=7.802\n",
      "ARIMA(1, 0, 1) RMSE=7.568\n",
      "ARIMA(1, 0, 2) RMSE=7.551\n",
      "ARIMA(1, 1, 0) RMSE=8.106\n",
      "ARIMA(1, 1, 1) RMSE=7.340\n",
      "ARIMA(1, 1, 2) RMSE=7.329\n",
      "ARIMA(1, 2, 0) RMSE=11.968\n",
      "ARIMA(1, 2, 1) RMSE=8.120\n",
      "ARIMA(1, 2, 2) RMSE=7.407\n",
      "ARIMA(2, 0, 0) RMSE=7.697\n",
      "ARIMA(2, 0, 1) RMSE=7.538\n",
      "ARIMA(2, 0, 2) failed: LU decomposition error.\n",
      "ARIMA(2, 1, 0) RMSE=7.700\n",
      "ARIMA(2, 1, 1) RMSE=7.332\n",
      "ARIMA(2, 1, 2) RMSE=7.356\n",
      "ARIMA(2, 2, 0) RMSE=10.355\n",
      "ARIMA(2, 2, 1) RMSE=7.714\n",
      "ARIMA(2, 2, 2) failed: LU decomposition error.\n",
      "ARIMA(4, 0, 0) RMSE=7.693\n",
      "ARIMA(4, 0, 1) RMSE=7.506\n",
      "ARIMA(4, 0, 2) failed: LU decomposition error.\n",
      "ARIMA(4, 1, 0) RMSE=7.565\n",
      "ARIMA(4, 1, 1) RMSE=7.396\n",
      "ARIMA(4, 1, 2) RMSE=7.321\n",
      "ARIMA(4, 2, 0) RMSE=8.940\n",
      "ARIMA(4, 2, 1) RMSE=7.577\n",
      "ARIMA(4, 2, 2) failed: LU decomposition error.\n",
      "ARIMA(6, 0, 0) RMSE=7.666\n",
      "ARIMA(6, 0, 1) RMSE=8.612\n",
      "ARIMA(6, 0, 2) failed: LU decomposition error.\n",
      "ARIMA(6, 1, 0) RMSE=7.281\n",
      "ARIMA(6, 1, 1) RMSE=7.340\n",
      "ARIMA(6, 1, 2) RMSE=7.433\n",
      "ARIMA(6, 2, 0) RMSE=8.337\n",
      "ARIMA(6, 2, 1) RMSE=7.292\n",
      "ARIMA(6, 2, 2) failed: LU decomposition error.\n",
      "ARIMA(8, 0, 0) RMSE=7.549\n",
      "ARIMA(8, 0, 1) RMSE=7.565\n",
      "ARIMA(8, 0, 2) RMSE=7.600\n",
      "ARIMA(8, 1, 0) RMSE=7.555\n",
      "ARIMA(8, 1, 1) RMSE=7.412\n",
      "ARIMA(8, 1, 2) RMSE=7.410\n",
      "ARIMA(8, 2, 0) RMSE=8.112\n",
      "ARIMA(8, 2, 1) RMSE=7.560\n",
      "ARIMA(8, 2, 2) RMSE=7.488\n",
      "ARIMA(10, 0, 0) RMSE=7.581\n",
      "ARIMA(10, 0, 1) RMSE=7.626\n",
      "ARIMA(10, 0, 2) RMSE=7.601\n",
      "ARIMA(10, 1, 0) RMSE=7.560\n",
      "ARIMA(10, 1, 1) RMSE=7.403\n",
      "ARIMA(10, 1, 2) failed: LU decomposition error.\n",
      "ARIMA(10, 2, 0) RMSE=8.079\n",
      "ARIMA(10, 2, 1) RMSE=7.565\n",
      "ARIMA(10, 2, 2) RMSE=7.512\n",
      "Best ARIMA(6, 1, 0) RMSE=7.281\n"
     ]
    }
   ],
   "source": [
    "# Example usage\n",
    "\n",
    "series = df['Births']\n",
    "\n",
    "p_values = [0, 1, 2, 4, 6, 8, 10]\n",
    "d_values = range(0, 3)\n",
    "q_values = range(0, 3)\n",
    "\n",
    "warnings.filterwarnings(\"ignore\")\n",
    "\n",
    "evaluate_models(series.values, p_values, d_values, q_values)"
   ]
  },
  {
   "cell_type": "markdown",
   "id": "560b5911-59d2-4f73-8c44-17b2f501d7aa",
   "metadata": {},
   "source": [
    "# Chapter 27 - Save Models and Make Predictions"
   ]
  },
  {
   "cell_type": "code",
   "execution_count": 32,
   "id": "94a0bf24-28b4-496a-8b89-1a2e9c7f4ca0",
   "metadata": {},
   "outputs": [],
   "source": [
    "from statsmodels.tsa.ar_model import AR\n",
    "from sklearn.metrics import mean_squared_error\n",
    "from math import sqrt"
   ]
  },
  {
   "cell_type": "code",
   "execution_count": 25,
   "id": "f8e25460-eff4-4098-96dc-3d05862c1510",
   "metadata": {},
   "outputs": [],
   "source": [
    "series = df['Births']"
   ]
  },
  {
   "cell_type": "code",
   "execution_count": 29,
   "id": "c86b73b9-befa-4172-9f34-5ef2ccea13a4",
   "metadata": {},
   "outputs": [],
   "source": [
    "# create a difference transform of the dataset\n",
    "def difference(dataset):\n",
    "    diff = list()\n",
    "    for i in range(1, len(dataset)):\n",
    "        value = dataset[i] - dataset[i - 1]\n",
    "        diff.append(value)\n",
    "    return np.array(diff)\n",
    "\n",
    "# Make a prediction give regression coefficients and lag obs\n",
    "def predict(coef, history):\n",
    "    yhat = coef[0]\n",
    "    for i in range(1, len(coef)):\n",
    "        yhat += coef[i] * history[-i]\n",
    "    return yhat"
   ]
  },
  {
   "cell_type": "code",
   "execution_count": 30,
   "id": "a6ae1f84-221a-4960-b12d-6635227c3f94",
   "metadata": {},
   "outputs": [
    {
     "name": "stdout",
     "output_type": "stream",
     "text": [
      "Train shape: (240,)\n",
      "Test shape: (124,)\n"
     ]
    }
   ],
   "source": [
    "# split dataset\n",
    "X = difference(series.values)\n",
    "size = int(len(X) * 0.66)\n",
    "train, test = X[0:size], X[size:]\n",
    "\n",
    "print(\"Train shape:\", train.shape)\n",
    "print(\"Test shape:\", test.shape)"
   ]
  },
  {
   "cell_type": "code",
   "execution_count": 35,
   "id": "b356180e-ec21-404a-b90b-046b987c1219",
   "metadata": {},
   "outputs": [
    {
     "ename": "AttributeError",
     "evalue": "'AutoReg' object has no attribute 'lags'",
     "output_type": "error",
     "traceback": [
      "\u001b[1;31m---------------------------------------------------------------------------\u001b[0m",
      "\u001b[1;31mAttributeError\u001b[0m                            Traceback (most recent call last)",
      "Cell \u001b[1;32mIn[35], line 6\u001b[0m\n\u001b[0;32m      4\u001b[0m model \u001b[38;5;241m=\u001b[39m AutoReg(train, lags\u001b[38;5;241m=\u001b[39m\u001b[38;5;241m6\u001b[39m)                     \u001b[38;5;66;03m# Define model with lag 6\u001b[39;00m\n\u001b[0;32m      5\u001b[0m model_fit \u001b[38;5;241m=\u001b[39m model\u001b[38;5;241m.\u001b[39mfit()                            \u001b[38;5;66;03m# Fit the model\u001b[39;00m\n\u001b[1;32m----> 6\u001b[0m window \u001b[38;5;241m=\u001b[39m model_fit\u001b[38;5;241m.\u001b[39mmodel\u001b[38;5;241m.\u001b[39mlags                      \u001b[38;5;66;03m# Get lag window\u001b[39;00m\n\u001b[0;32m      7\u001b[0m coef \u001b[38;5;241m=\u001b[39m model_fit\u001b[38;5;241m.\u001b[39mparams                            \u001b[38;5;66;03m# Model coefficients\u001b[39;00m\n\u001b[0;32m      9\u001b[0m \u001b[38;5;28mprint\u001b[39m(coef)\n",
      "\u001b[1;31mAttributeError\u001b[0m: 'AutoReg' object has no attribute 'lags'"
     ]
    }
   ],
   "source": [
    "from statsmodels.tsa.ar_model import AutoReg\n",
    "\n",
    "# Train AutoRegression model with lag=6\n",
    "model = AutoReg(train, lags=6)                     # Define model with lag 6\n",
    "model_fit = model.fit()                            # Fit the model\n",
    "window = model_fit.model.lags                      # Get lag window\n",
    "coef = model_fit.params                            # Model coefficients\n",
    "\n",
    "print(coef)"
   ]
  },
  {
   "cell_type": "code",
   "execution_count": null,
   "id": "be0cd368-6305-40d6-93e6-ade4eb737170",
   "metadata": {},
   "outputs": [],
   "source": []
  }
 ],
 "metadata": {
  "kernelspec": {
   "display_name": "Python 3 (ipykernel)",
   "language": "python",
   "name": "python3"
  },
  "language_info": {
   "codemirror_mode": {
    "name": "ipython",
    "version": 3
   },
   "file_extension": ".py",
   "mimetype": "text/x-python",
   "name": "python",
   "nbconvert_exporter": "python",
   "pygments_lexer": "ipython3",
   "version": "3.12.7"
  }
 },
 "nbformat": 4,
 "nbformat_minor": 5
}
