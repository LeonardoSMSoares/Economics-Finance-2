{
 "cells": [
  {
   "cell_type": "code",
   "execution_count": null,
   "id": "694f8f42-c783-4703-a54b-8edba125188b",
   "metadata": {},
   "outputs": [],
   "source": []
  }
 ],
 "metadata": {
  "kernelspec": {
   "display_name": "",
   "name": ""
  },
  "language_info": {
   "name": ""
  }
 },
 "nbformat": 4,
 "nbformat_minor": 5
}
