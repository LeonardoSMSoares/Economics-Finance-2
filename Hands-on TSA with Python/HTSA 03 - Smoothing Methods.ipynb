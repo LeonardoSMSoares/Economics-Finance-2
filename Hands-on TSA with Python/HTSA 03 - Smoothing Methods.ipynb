{
 "cells": [
  {
   "cell_type": "markdown",
   "id": "13dba47f-a5ab-40c1-a34f-68b3e6c8d866",
   "metadata": {},
   "source": [
    "# Chapter 3 - Smoothing Methods"
   ]
  },
  {
   "cell_type": "code",
   "execution_count": 1,
   "id": "4a8e36ec-bf10-46d8-a509-fcb0b1a6656b",
   "metadata": {},
   "outputs": [],
   "source": [
    "import numpy as np\n",
    "import pandas as pd\n",
    "\n",
    "import seaborn as sns\n",
    "import matplotlib.pyplot as plt\n",
    "%matplotlib inline"
   ]
  },
  {
   "cell_type": "code",
   "execution_count": 16,
   "id": "98c8c20e-67a3-44a1-974c-85e8130ed27d",
   "metadata": {},
   "outputs": [],
   "source": [
    "from statsmodels.tsa.api import SimpleExpSmoothing\n",
    "from sklearn import metrics\n",
    "from timeit import default_timer as timer\n",
    "from statsmodels.tsa.api import ExponentialSmoothing, SimpleExpSmoothing, Holt"
   ]
  },
  {
   "cell_type": "markdown",
   "id": "6c307d9c-8266-4409-b146-90a988f75ce1",
   "metadata": {},
   "source": [
    "## Simple Exponential Smoothing in Action"
   ]
  },
  {
   "cell_type": "code",
   "execution_count": 3,
   "id": "420fc8cc-9489-42e9-b36b-4bb79900f0ca",
   "metadata": {},
   "outputs": [
    {
     "data": {
      "text/html": [
       "<div>\n",
       "<style scoped>\n",
       "    .dataframe tbody tr th:only-of-type {\n",
       "        vertical-align: middle;\n",
       "    }\n",
       "\n",
       "    .dataframe tbody tr th {\n",
       "        vertical-align: top;\n",
       "    }\n",
       "\n",
       "    .dataframe thead th {\n",
       "        text-align: right;\n",
       "    }\n",
       "</style>\n",
       "<table border=\"1\" class=\"dataframe\">\n",
       "  <thead>\n",
       "    <tr style=\"text-align: right;\">\n",
       "      <th></th>\n",
       "      <th>Date</th>\n",
       "      <th>Open</th>\n",
       "      <th>High</th>\n",
       "      <th>Low</th>\n",
       "      <th>Close</th>\n",
       "      <th>Adj Close</th>\n",
       "      <th>Volume</th>\n",
       "    </tr>\n",
       "  </thead>\n",
       "  <tbody>\n",
       "    <tr>\n",
       "      <th>0</th>\n",
       "      <td>2014-12-08</td>\n",
       "      <td>76.180000</td>\n",
       "      <td>77.250000</td>\n",
       "      <td>75.400002</td>\n",
       "      <td>76.519997</td>\n",
       "      <td>76.519997</td>\n",
       "      <td>25733900</td>\n",
       "    </tr>\n",
       "    <tr>\n",
       "      <th>1</th>\n",
       "      <td>2014-12-09</td>\n",
       "      <td>75.199997</td>\n",
       "      <td>76.930000</td>\n",
       "      <td>74.779999</td>\n",
       "      <td>76.839996</td>\n",
       "      <td>76.839996</td>\n",
       "      <td>25358600</td>\n",
       "    </tr>\n",
       "    <tr>\n",
       "      <th>2</th>\n",
       "      <td>2014-12-10</td>\n",
       "      <td>76.650002</td>\n",
       "      <td>77.550003</td>\n",
       "      <td>76.070000</td>\n",
       "      <td>76.180000</td>\n",
       "      <td>76.180000</td>\n",
       "      <td>32210500</td>\n",
       "    </tr>\n",
       "    <tr>\n",
       "      <th>3</th>\n",
       "      <td>2014-12-11</td>\n",
       "      <td>76.519997</td>\n",
       "      <td>78.519997</td>\n",
       "      <td>76.480003</td>\n",
       "      <td>77.730003</td>\n",
       "      <td>77.730003</td>\n",
       "      <td>33462100</td>\n",
       "    </tr>\n",
       "    <tr>\n",
       "      <th>4</th>\n",
       "      <td>2014-12-12</td>\n",
       "      <td>77.160004</td>\n",
       "      <td>78.879997</td>\n",
       "      <td>77.019997</td>\n",
       "      <td>77.830002</td>\n",
       "      <td>77.830002</td>\n",
       "      <td>28091600</td>\n",
       "    </tr>\n",
       "    <tr>\n",
       "      <th>5</th>\n",
       "      <td>2014-12-15</td>\n",
       "      <td>78.459999</td>\n",
       "      <td>78.580002</td>\n",
       "      <td>76.559998</td>\n",
       "      <td>76.989998</td>\n",
       "      <td>76.989998</td>\n",
       "      <td>29396500</td>\n",
       "    </tr>\n",
       "    <tr>\n",
       "      <th>6</th>\n",
       "      <td>2014-12-16</td>\n",
       "      <td>76.190002</td>\n",
       "      <td>77.389999</td>\n",
       "      <td>74.589996</td>\n",
       "      <td>74.690002</td>\n",
       "      <td>74.690002</td>\n",
       "      <td>31554600</td>\n",
       "    </tr>\n",
       "    <tr>\n",
       "      <th>7</th>\n",
       "      <td>2014-12-17</td>\n",
       "      <td>75.010002</td>\n",
       "      <td>76.410004</td>\n",
       "      <td>74.900002</td>\n",
       "      <td>76.110001</td>\n",
       "      <td>76.110001</td>\n",
       "      <td>29203900</td>\n",
       "    </tr>\n",
       "    <tr>\n",
       "      <th>8</th>\n",
       "      <td>2014-12-18</td>\n",
       "      <td>76.889999</td>\n",
       "      <td>78.400002</td>\n",
       "      <td>76.510002</td>\n",
       "      <td>78.400002</td>\n",
       "      <td>78.400002</td>\n",
       "      <td>34222100</td>\n",
       "    </tr>\n",
       "    <tr>\n",
       "      <th>9</th>\n",
       "      <td>2014-12-19</td>\n",
       "      <td>78.750000</td>\n",
       "      <td>80.000000</td>\n",
       "      <td>78.330002</td>\n",
       "      <td>79.879997</td>\n",
       "      <td>79.879997</td>\n",
       "      <td>43335000</td>\n",
       "    </tr>\n",
       "  </tbody>\n",
       "</table>\n",
       "</div>"
      ],
      "text/plain": [
       "         Date       Open       High        Low      Close  Adj Close    Volume\n",
       "0  2014-12-08  76.180000  77.250000  75.400002  76.519997  76.519997  25733900\n",
       "1  2014-12-09  75.199997  76.930000  74.779999  76.839996  76.839996  25358600\n",
       "2  2014-12-10  76.650002  77.550003  76.070000  76.180000  76.180000  32210500\n",
       "3  2014-12-11  76.519997  78.519997  76.480003  77.730003  77.730003  33462100\n",
       "4  2014-12-12  77.160004  78.879997  77.019997  77.830002  77.830002  28091600\n",
       "5  2014-12-15  78.459999  78.580002  76.559998  76.989998  76.989998  29396500\n",
       "6  2014-12-16  76.190002  77.389999  74.589996  74.690002  74.690002  31554600\n",
       "7  2014-12-17  75.010002  76.410004  74.900002  76.110001  76.110001  29203900\n",
       "8  2014-12-18  76.889999  78.400002  76.510002  78.400002  78.400002  34222100\n",
       "9  2014-12-19  78.750000  80.000000  78.330002  79.879997  79.879997  43335000"
      ]
     },
     "execution_count": 3,
     "metadata": {},
     "output_type": "execute_result"
    }
   ],
   "source": [
    "url1 = ('https://raw.githubusercontent.com/Apress/hands-on-time-series-analylsis-python/refs/heads/master/Data/FB.csv')\n",
    "\n",
    "df = pd.read_csv(url1)\n",
    "df.head(10)"
   ]
  },
  {
   "cell_type": "code",
   "execution_count": 4,
   "id": "eb8751d5-25eb-427c-98a1-eb99abdd1247",
   "metadata": {},
   "outputs": [
    {
     "name": "stdout",
     "output_type": "stream",
     "text": [
      "<class 'pandas.core.frame.DataFrame'>\n",
      "RangeIndex: 1259 entries, 0 to 1258\n",
      "Data columns (total 7 columns):\n",
      " #   Column     Non-Null Count  Dtype  \n",
      "---  ------     --------------  -----  \n",
      " 0   Date       1259 non-null   object \n",
      " 1   Open       1259 non-null   float64\n",
      " 2   High       1259 non-null   float64\n",
      " 3   Low        1259 non-null   float64\n",
      " 4   Close      1259 non-null   float64\n",
      " 5   Adj Close  1259 non-null   float64\n",
      " 6   Volume     1259 non-null   int64  \n",
      "dtypes: float64(5), int64(1), object(1)\n",
      "memory usage: 69.0+ KB\n"
     ]
    }
   ],
   "source": [
    "df.info()"
   ]
  },
  {
   "cell_type": "code",
   "execution_count": 5,
   "id": "d463b3b6-8fe4-468c-a16c-2f11e9f59a44",
   "metadata": {},
   "outputs": [],
   "source": [
    " # Select the 'Close' column from the DataFrame and store it in X\n",
    "X = df['Close']             \n",
    "\n",
    "test = X.iloc[-30:]     # Assign the last 30 values of X to the test set\n",
    "train = X.iloc[:-30]    # Assign all values except the last 30 to the train set"
   ]
  },
  {
   "cell_type": "code",
   "execution_count": 6,
   "id": "f770a16e-83e2-42c3-b922-1fe034173348",
   "metadata": {},
   "outputs": [
    {
     "data": {
      "text/plain": [
       "pandas.core.series.Series"
      ]
     },
     "execution_count": 6,
     "metadata": {},
     "output_type": "execute_result"
    }
   ],
   "source": [
    "type(X)"
   ]
  },
  {
   "cell_type": "code",
   "execution_count": 7,
   "id": "71215224-0076-417a-9203-8e60dec73630",
   "metadata": {},
   "outputs": [
    {
     "data": {
      "text/plain": [
       "pandas.core.series.Series"
      ]
     },
     "execution_count": 7,
     "metadata": {},
     "output_type": "execute_result"
    }
   ],
   "source": [
    "type(test)"
   ]
  },
  {
   "cell_type": "markdown",
   "id": "8d2ecc58-b843-40df-a48d-e00db7f82a44",
   "metadata": {},
   "source": [
    "### The SimpleExpSmoothing parameter specifies the following:\n",
    "\n",
    "**smoothing_level (float, optional):** \n",
    "\n",
    "    This is the smoothing_level value of the simple exponential smoothing. If the value is set, then this value will be used as the value.\n",
    "\n",
    "**optimized (bool):** \n",
    "\n",
    "    This specifies whether the values that have not been set earlier should be optimized automatically."
   ]
  },
  {
   "cell_type": "code",
   "execution_count": 8,
   "id": "73d3adbb-5a64-4aea-ad72-f07c9f534f81",
   "metadata": {},
   "outputs": [],
   "source": [
    "def timeseries_evaluation_metrics_func(y_true, y_pred):\n",
    "    \n",
    "    def mean_absolute_percentage_error(y_true, y_pred):\n",
    "        \n",
    "        y_true, y_pred = np.array(y_true), np.array(y_pred)\n",
    "\n",
    "        mape = np.mean(np.abs((y_true - y_pred) / y_true)) * 100\n",
    "        \n",
    "        return mape\n",
    "        \n",
    "    print('Evaluation metric results:-')\n",
    "    print(f' MSE is : {metrics.mean_squared_error(y_true, y_pred)}')\n",
    "    print(f' MAE is : {metrics.mean_absolute_error(y_true, y_pred)}')\n",
    "    print(f'RMSE is : {np.sqrt(metrics.mean_squared_error(y_true, y_pred))}')\n",
    "    print(f'MAPE is : {mean_absolute_percentage_error(y_true, y_pred)}')\n",
    "    print(f'  R2 is : {metrics.r2_score(y_true, y_pred)}',end='\\n\\n')"
   ]
  },
  {
   "cell_type": "code",
   "execution_count": 9,
   "id": "9c90a387-5907-447d-b9fc-557333dbc5b0",
   "metadata": {},
   "outputs": [
    {
     "name": "stdout",
     "output_type": "stream",
     "text": [
      "Fitting for smoothing level= 0\n",
      "Evaluation metric results:-\n",
      " MSE is : 14123.11196903136\n",
      " MAE is : 118.76366943333332\n",
      "RMSE is : 118.84069996861918\n",
      "MAPE is : 60.79708542749399\n",
      "  R2 is : -770.6370351163115\n",
      "\n",
      "Fitting for smoothing level= 0.1\n",
      "Evaluation metric results:-\n",
      " MSE is : 130.19890782430633\n",
      " MAE is : 10.578096050945016\n",
      "RMSE is : 11.41047360210374\n",
      "MAPE is : 5.371184257014935\n",
      "  R2 is : -6.113609198116427\n",
      "\n",
      "Fitting for smoothing level= 0.2\n",
      "Evaluation metric results:-\n",
      " MSE is : 108.84519758407878\n",
      " MAE is : 9.515377334756147\n",
      "RMSE is : 10.432890183648958\n",
      "MAPE is : 4.826729569629682\n",
      "  R2 is : -4.946917770998036\n",
      "\n",
      "Fitting for smoothing level= 0.3\n",
      "Evaluation metric results:-\n",
      " MSE is : 101.81858360183577\n",
      " MAE is : 9.13869749146715\n",
      "RMSE is : 10.090519491177636\n",
      "MAPE is : 4.633748018445831\n",
      "  R2 is : -4.563008361226736\n",
      "\n",
      "Fitting for smoothing level= 0.4\n",
      "Evaluation metric results:-\n",
      " MSE is : 101.76016636355348\n",
      " MAE is : 9.135500785521595\n",
      "RMSE is : 10.087624416261416\n",
      "MAPE is : 4.632110274130487\n",
      "  R2 is : -4.55981664932594\n",
      "\n",
      "Fitting for smoothing level= 0.5\n",
      "Evaluation metric results:-\n",
      " MSE is : 102.74142204977626\n",
      " MAE is : 9.189049476876729\n",
      "RMSE is : 10.136144338444291\n",
      "MAPE is : 4.659544472444225\n",
      "  R2 is : -4.613428999781581\n",
      "\n",
      "Fitting for smoothing level= 0.6\n",
      "Evaluation metric results:-\n",
      " MSE is : 102.80335052433028\n",
      " MAE is : 9.19241854807768\n",
      "RMSE is : 10.139198712143395\n",
      "MAPE is : 4.6612705233545455\n",
      "  R2 is : -4.616812553250457\n",
      "\n",
      "Fitting for smoothing level= 0.7\n",
      "Evaluation metric results:-\n",
      " MSE is : 101.78748505086264\n",
      " MAE is : 9.136995856931033\n",
      "RMSE is : 10.08897839480602\n",
      "MAPE is : 4.6328762328215705\n",
      "  R2 is : -4.561309246065577\n",
      "\n",
      "Fitting for smoothing level= 0.8\n",
      "Evaluation metric results:-\n",
      " MSE is : 100.16155507977345\n",
      " MAE is : 9.047583286076213\n",
      "RMSE is : 10.008074494115911\n",
      "MAPE is : 4.58706816284831\n",
      "  R2 is : -4.472474166024499\n",
      "\n",
      "Fitting for smoothing level= 0.9\n",
      "Evaluation metric results:-\n",
      " MSE is : 98.5429853240396\n",
      " MAE is : 8.957689074909434\n",
      "RMSE is : 9.926881953767738\n",
      "MAPE is : 4.54101333771634\n",
      "  R2 is : -4.384041222195827\n",
      "\n",
      "Fitting for smoothing level= 1\n",
      "Evaluation metric results:-\n",
      " MSE is : 97.57797868071496\n",
      " MAE is : 8.90366143333332\n",
      "RMSE is : 9.878156643864024\n",
      "MAPE is : 4.513333762437967\n",
      "  R2 is : -4.331316662144517\n",
      "\n"
     ]
    },
    {
     "data": {
      "text/html": [
       "<div>\n",
       "<style scoped>\n",
       "    .dataframe tbody tr th:only-of-type {\n",
       "        vertical-align: middle;\n",
       "    }\n",
       "\n",
       "    .dataframe tbody tr th {\n",
       "        vertical-align: top;\n",
       "    }\n",
       "\n",
       "    .dataframe thead th {\n",
       "        text-align: right;\n",
       "    }\n",
       "</style>\n",
       "<table border=\"1\" class=\"dataframe\">\n",
       "  <thead>\n",
       "    <tr style=\"text-align: right;\">\n",
       "      <th></th>\n",
       "      <th>smoothing parameter</th>\n",
       "      <th>RMSE</th>\n",
       "    </tr>\n",
       "  </thead>\n",
       "  <tbody>\n",
       "    <tr>\n",
       "      <th>10</th>\n",
       "      <td>1.0</td>\n",
       "      <td>9.878157</td>\n",
       "    </tr>\n",
       "    <tr>\n",
       "      <th>9</th>\n",
       "      <td>0.9</td>\n",
       "      <td>9.926882</td>\n",
       "    </tr>\n",
       "    <tr>\n",
       "      <th>8</th>\n",
       "      <td>0.8</td>\n",
       "      <td>10.008074</td>\n",
       "    </tr>\n",
       "  </tbody>\n",
       "</table>\n",
       "</div>"
      ],
      "text/plain": [
       "    smoothing parameter       RMSE\n",
       "10                  1.0   9.878157\n",
       "9                   0.9   9.926882\n",
       "8                   0.8  10.008074"
      ]
     },
     "execution_count": 9,
     "metadata": {},
     "output_type": "execute_result"
    }
   ],
   "source": [
    "resu = []                       # Initialize result list\n",
    "temp_df = pd.DataFrame()        # Create an empty DataFrame to store RMSE results\n",
    "\n",
    "smoothing_level = [0, 0.10, 0.20, 0.30, 0.40, 0.50, 0.60, 0.70, 0.80, 0.90, 1]\n",
    "\n",
    "for i in smoothing_level:\n",
    "    \n",
    "    print(f'Fitting for smoothing level= {i}')                              # Display current smoothing level\n",
    "    \n",
    "    fit_v = SimpleExpSmoothing(np.asarray(train)).fit(smoothing_level=i, optimized=False)    # Fit model with given smoothing level\n",
    "    \n",
    "    fcst_pred_v = fit_v.forecast(30)                                        # Forecast next 30 periods\n",
    "    \n",
    "    timeseries_evaluation_metrics_func(test, fcst_pred_v)                   # Evaluate performance\n",
    "    \n",
    "    rmse = np.sqrt(metrics.mean_squared_error(test, fcst_pred_v))           # Calculate RMSE\n",
    "    \n",
    "    df3 = {'smoothing parameter': i, 'RMSE': rmse}                          # Store smoothing level and RMSE\n",
    "    \n",
    "    temp_df = pd.concat([temp_df, pd.DataFrame([df3])], ignore_index=True)  # Append to result DataFrame\n",
    "\n",
    "temp_df.sort_values(by='RMSE').head(3)                                      # Show top 3 smoothing levels with lowest RMSE"
   ]
  },
  {
   "cell_type": "code",
   "execution_count": 10,
   "id": "d5af92ce-ce78-444b-9ee2-3a86f4efa0e8",
   "metadata": {},
   "outputs": [
    {
     "name": "stdout",
     "output_type": "stream",
     "text": [
      "Evaluation metric results:-\n",
      " MSE is : 130.19890782430633\n",
      " MAE is : 10.578096050945016\n",
      "RMSE is : 11.41047360210374\n",
      "MAPE is : 5.371184257014935\n",
      "  R2 is : -6.113609198116427\n",
      "\n"
     ]
    }
   ],
   "source": [
    "# Using values from grid search\n",
    "fitSES = SimpleExpSmoothing(np.asarray(train)).fit( smoothing_level = 0.1,optimized= False)\n",
    "fcst_gs_pred = fitSES.forecast(30)\n",
    "timeseries_evaluation_metrics_func(test,fcst_gs_pred)"
   ]
  },
  {
   "cell_type": "code",
   "execution_count": 11,
   "id": "28c02bfa-571e-43cc-a2bb-0bd5260bb0e3",
   "metadata": {},
   "outputs": [
    {
     "name": "stdout",
     "output_type": "stream",
     "text": [
      "Evaluation metric results:-\n",
      " MSE is : 97.68044511489337\n",
      " MAE is : 8.90941374915351\n",
      "RMSE is : 9.88334179895107\n",
      "MAPE is : 4.51628080314019\n",
      "  R2 is : -4.336915066776707\n",
      "\n"
     ]
    }
   ],
   "source": [
    "# Automated smoothing_level\n",
    "fitSESauto = SimpleExpSmoothing(np.asarray(train)).fit( optimized= True, use_brute = True)\n",
    "fcst_auto_pred = fitSESauto.forecast(30)\n",
    "timeseries_evaluation_metrics_func(test,fcst_auto_pred)"
   ]
  },
  {
   "cell_type": "code",
   "execution_count": 12,
   "id": "a945ddd1-1907-4062-b65f-905a0c9b9ae5",
   "metadata": {},
   "outputs": [
    {
     "data": {
      "text/html": [
       "<table class=\"simpletable\">\n",
       "<caption>SimpleExpSmoothing Model Results</caption>\n",
       "<tr>\n",
       "  <th>Dep. Variable:</th>           <td>endog</td>       <th>  No. Observations:  </th>       <td>1229</td>      \n",
       "</tr>\n",
       "<tr>\n",
       "  <th>Model:</th>            <td>SimpleExpSmoothing</td> <th>  SSE                </th>     <td>8965.774</td>    \n",
       "</tr>\n",
       "<tr>\n",
       "  <th>Optimized:</th>               <td>True</td>        <th>  AIC                </th>     <td>2446.285</td>    \n",
       "</tr>\n",
       "<tr>\n",
       "  <th>Trend:</th>                   <td>None</td>        <th>  BIC                </th>     <td>2456.513</td>    \n",
       "</tr>\n",
       "<tr>\n",
       "  <th>Seasonal:</th>                <td>None</td>        <th>  AICC               </th>     <td>2446.318</td>    \n",
       "</tr>\n",
       "<tr>\n",
       "  <th>Seasonal Periods:</th>        <td>None</td>        <th>  Date:              </th> <td>Wed, 09 Apr 2025</td>\n",
       "</tr>\n",
       "<tr>\n",
       "  <th>Box-Cox:</th>                 <td>False</td>       <th>  Time:              </th>     <td>15:27:32</td>    \n",
       "</tr>\n",
       "<tr>\n",
       "  <th>Box-Cox Coeff.:</th>          <td>None</td>        <th>                     </th>         <td> </td>       \n",
       "</tr>\n",
       "</table>\n",
       "<table class=\"simpletable\">\n",
       "<tr>\n",
       "         <td></td>                 <th>coeff</th>                <th>code</th>               <th>optimized</th>     \n",
       "</tr>\n",
       "<tr>\n",
       "  <th>smoothing_level</th> <td>           0.9808446</td> <td>               alpha</td> <td>                True</td>\n",
       "</tr>\n",
       "<tr>\n",
       "  <th>initial_level</th>   <td>           76.519997</td> <td>                 l.0</td> <td>               False</td>\n",
       "</tr>\n",
       "</table>"
      ],
      "text/latex": [
       "\\begin{center}\n",
       "\\begin{tabular}{lclc}\n",
       "\\toprule\n",
       "\\textbf{Dep. Variable:}    &        endog         & \\textbf{  No. Observations:  } &         1229          \\\\\n",
       "\\textbf{Model:}            &  SimpleExpSmoothing  & \\textbf{  SSE                } &       8965.774        \\\\\n",
       "\\textbf{Optimized:}        &         True         & \\textbf{  AIC                } &       2446.285        \\\\\n",
       "\\textbf{Trend:}            &         None         & \\textbf{  BIC                } &       2456.513        \\\\\n",
       "\\textbf{Seasonal:}         &         None         & \\textbf{  AICC               } &       2446.318        \\\\\n",
       "\\textbf{Seasonal Periods:} &         None         & \\textbf{  Date:              } &   Wed, 09 Apr 2025    \\\\\n",
       "\\textbf{Box-Cox:}          &        False         & \\textbf{  Time:              } &       15:27:32        \\\\\n",
       "\\textbf{Box-Cox Coeff.:}   &         None         & \\textbf{                     } &                       \\\\\n",
       "\\bottomrule\n",
       "\\end{tabular}\n",
       "\\begin{tabular}{lccc}\n",
       "                          &    \\textbf{coeff}    &    \\textbf{code}     &  \\textbf{optimized}   \\\\\n",
       "\\midrule\n",
       "\\textbf{smoothing\\_level} &            0.9808446 &                alpha &                 True  \\\\\n",
       "\\textbf{initial\\_level}   &            76.519997 &                  l.0 &                False  \\\\\n",
       "\\bottomrule\n",
       "\\end{tabular}\n",
       "%\\caption{SimpleExpSmoothing Model Results}\n",
       "\\end{center}"
      ],
      "text/plain": [
       "<class 'statsmodels.iolib.summary.Summary'>\n",
       "\"\"\"\n",
       "                       SimpleExpSmoothing Model Results                       \n",
       "==============================================================================\n",
       "Dep. Variable:                  endog   No. Observations:                 1229\n",
       "Model:             SimpleExpSmoothing   SSE                           8965.774\n",
       "Optimized:                       True   AIC                           2446.285\n",
       "Trend:                           None   BIC                           2456.513\n",
       "Seasonal:                        None   AICC                          2446.318\n",
       "Seasonal Periods:                None   Date:                 Wed, 09 Apr 2025\n",
       "Box-Cox:                        False   Time:                         15:27:32\n",
       "Box-Cox Coeff.:                  None                                         \n",
       "==============================================================================\n",
       "                       coeff                 code              optimized      \n",
       "------------------------------------------------------------------------------\n",
       "smoothing_level            0.9808446                alpha                 True\n",
       "initial_level              76.519997                  l.0                False\n",
       "------------------------------------------------------------------------------\n",
       "\"\"\""
      ]
     },
     "execution_count": 12,
     "metadata": {},
     "output_type": "execute_result"
    }
   ],
   "source": [
    "fitSESauto.summary()"
   ]
  },
  {
   "cell_type": "code",
   "execution_count": 13,
   "id": "4c5aaf27-22e6-4949-822f-d16fa9daf8e2",
   "metadata": {},
   "outputs": [
    {
     "data": {
      "text/html": [
       "<div>\n",
       "<style scoped>\n",
       "    .dataframe tbody tr th:only-of-type {\n",
       "        vertical-align: middle;\n",
       "    }\n",
       "\n",
       "    .dataframe tbody tr th {\n",
       "        vertical-align: top;\n",
       "    }\n",
       "\n",
       "    .dataframe thead th {\n",
       "        text-align: right;\n",
       "    }\n",
       "</style>\n",
       "<table border=\"1\" class=\"dataframe\">\n",
       "  <thead>\n",
       "    <tr style=\"text-align: right;\">\n",
       "      <th></th>\n",
       "      <th>Close_grid_Search</th>\n",
       "    </tr>\n",
       "    <tr>\n",
       "      <th>new_index</th>\n",
       "      <th></th>\n",
       "    </tr>\n",
       "  </thead>\n",
       "  <tbody>\n",
       "    <tr>\n",
       "      <th>1229</th>\n",
       "      <td>184.70557</td>\n",
       "    </tr>\n",
       "    <tr>\n",
       "      <th>1230</th>\n",
       "      <td>184.70557</td>\n",
       "    </tr>\n",
       "    <tr>\n",
       "      <th>1231</th>\n",
       "      <td>184.70557</td>\n",
       "    </tr>\n",
       "    <tr>\n",
       "      <th>1232</th>\n",
       "      <td>184.70557</td>\n",
       "    </tr>\n",
       "    <tr>\n",
       "      <th>1233</th>\n",
       "      <td>184.70557</td>\n",
       "    </tr>\n",
       "  </tbody>\n",
       "</table>\n",
       "</div>"
      ],
      "text/plain": [
       "           Close_grid_Search\n",
       "new_index                   \n",
       "1229               184.70557\n",
       "1230               184.70557\n",
       "1231               184.70557\n",
       "1232               184.70557\n",
       "1233               184.70557"
      ]
     },
     "execution_count": 13,
     "metadata": {},
     "output_type": "execute_result"
    }
   ],
   "source": [
    "# Create a DataFrame from forecast values with column name 'Close_grid_Search'\n",
    "df_fcst_gs_pred = pd.DataFrame(fcst_gs_pred, columns=['Close_grid_Search'])   \n",
    "\n",
    "# Add a new column 'new_index' with values from 1229 to 1258\n",
    "df_fcst_gs_pred[\"new_index\"] = range(1229, 1259)     \n",
    "\n",
    "# Set 'new_index' as the DataFrame index\n",
    "df_fcst_gs_pred = df_fcst_gs_pred.set_index(\"new_index\")                      \n",
    "\n",
    "\n",
    "df_fcst_gs_pred.head()"
   ]
  },
  {
   "cell_type": "code",
   "execution_count": 14,
   "id": "d676f809-4c57-4cde-b743-4c2d95d918cd",
   "metadata": {},
   "outputs": [
    {
     "data": {
      "text/html": [
       "<div>\n",
       "<style scoped>\n",
       "    .dataframe tbody tr th:only-of-type {\n",
       "        vertical-align: middle;\n",
       "    }\n",
       "\n",
       "    .dataframe tbody tr th {\n",
       "        vertical-align: top;\n",
       "    }\n",
       "\n",
       "    .dataframe thead th {\n",
       "        text-align: right;\n",
       "    }\n",
       "</style>\n",
       "<table border=\"1\" class=\"dataframe\">\n",
       "  <thead>\n",
       "    <tr style=\"text-align: right;\">\n",
       "      <th></th>\n",
       "      <th>Close_auto_search</th>\n",
       "    </tr>\n",
       "    <tr>\n",
       "      <th>new_index</th>\n",
       "      <th></th>\n",
       "    </tr>\n",
       "  </thead>\n",
       "  <tbody>\n",
       "    <tr>\n",
       "      <th>1229</th>\n",
       "      <td>186.374253</td>\n",
       "    </tr>\n",
       "    <tr>\n",
       "      <th>1230</th>\n",
       "      <td>186.374253</td>\n",
       "    </tr>\n",
       "    <tr>\n",
       "      <th>1231</th>\n",
       "      <td>186.374253</td>\n",
       "    </tr>\n",
       "    <tr>\n",
       "      <th>1232</th>\n",
       "      <td>186.374253</td>\n",
       "    </tr>\n",
       "    <tr>\n",
       "      <th>1233</th>\n",
       "      <td>186.374253</td>\n",
       "    </tr>\n",
       "  </tbody>\n",
       "</table>\n",
       "</div>"
      ],
      "text/plain": [
       "           Close_auto_search\n",
       "new_index                   \n",
       "1229              186.374253\n",
       "1230              186.374253\n",
       "1231              186.374253\n",
       "1232              186.374253\n",
       "1233              186.374253"
      ]
     },
     "execution_count": 14,
     "metadata": {},
     "output_type": "execute_result"
    }
   ],
   "source": [
    "# Create a DataFrame from automatic forecast values with column name 'Close_auto_search'\n",
    "df_fcst_auto_pred = pd.DataFrame(fcst_auto_pred, columns=['Close_auto_search'])  \n",
    "\n",
    "# Add a new column 'new_index' with values from 1229 to 1258\n",
    "df_fcst_auto_pred[\"new_index\"] = range(1229, 1259)    \n",
    "\n",
    "# Set 'new_index' as the DataFrame index\n",
    "df_fcst_auto_pred = df_fcst_auto_pred.set_index(\"new_index\")                     \n",
    "\n",
    "\n",
    "df_fcst_auto_pred.head()"
   ]
  },
  {
   "cell_type": "code",
   "execution_count": 15,
   "id": "a39616ea-8692-4b9f-b3e2-9c0a068b005e",
   "metadata": {},
   "outputs": [
    {
     "data": {
      "image/png": "[encoded data removed]",
      "text/plain": [
       "<Figure size 1200x600 with 1 Axes>"
      ]
     },
     "metadata": {},
     "output_type": "display_data"
    }
   ],
   "source": [
    "# Plot actual and fitted serie\n",
    "plt.figure(figsize=(12, 6))                                      \n",
    "\n",
    "plt.plot( train, label='Train')\n",
    "plt.plot(test, label='Test')\n",
    "plt.plot(df_fcst_auto_pred, label='Simple Exponential Smoothing using optimized =True')\n",
    "plt.plot(df_fcst_gs_pred, label='Simple Exponential Smoothing using custom grid search')\n",
    "\n",
    "plt.title('Facebook Stock Price')                      \n",
    "plt.xlabel('Time')                                        \n",
    "plt.ylabel('Stock Price')\n",
    "plt.xlim(0,1258)\n",
    "plt.grid(True)                                            \n",
    "plt.legend()                                             \n",
    "plt.tight_layout()                                       \n",
    "plt.show();"
   ]
  },
  {
   "cell_type": "markdown",
   "id": "578c9dde-e8f9-41cb-ac32-71b0a66d06b6",
   "metadata": {},
   "source": [
    "We can clearly see that the simple exponential smoothing is not\n",
    "performing well as the stock market data, which will have trends and\n",
    "seasonality. Our basic model will not be able to capture these details."
   ]
  },
  {
   "cell_type": "markdown",
   "id": "239aca51-2691-4bc7-8ec6-c335fd9bb952",
   "metadata": {},
   "source": [
    "# Double Exponential Smoothing (Holt’s)"
   ]
  },
  {
   "cell_type": "code",
   "execution_count": 17,
   "id": "a879988f-fa66-4858-953f-31577243adca",
   "metadata": {},
   "outputs": [],
   "source": [
    "train = df.Close[0:-30]\n",
    "test = df.Close[-30:]"
   ]
  },
  {
   "cell_type": "code",
   "execution_count": 18,
   "id": "e82ab695-726e-48f1-85d4-a4e68a1dea0c",
   "metadata": {},
   "outputs": [],
   "source": [
    "def timeseries_evaluation_metrics_func(y_true, y_pred):\n",
    "    \n",
    "    def mean_absolute_percentage_error(y_true, y_pred):\n",
    "        \n",
    "        y_true, y_pred = np.array(y_true), np.array(y_pred)\n",
    "\n",
    "        mape = np.mean(np.abs((y_true - y_pred) / y_true)) * 100\n",
    "        \n",
    "        return mape\n",
    "        \n",
    "    print('Evaluation metric results:-')\n",
    "    print(f' MSE is : {metrics.mean_squared_error(y_true, y_pred)}')\n",
    "    print(f' MAE is : {metrics.mean_absolute_error(y_true, y_pred)}')\n",
    "    print(f'RMSE is : {np.sqrt(metrics.mean_squared_error(y_true, y_pred))}')\n",
    "    print(f'MAPE is : {mean_absolute_percentage_error(y_true, y_pred)}')\n",
    "    print(f'  R2 is : {metrics.r2_score(y_true, y_pred)}',end='\\n\\n')"
   ]
  },
  {
   "cell_type": "code",
   "execution_count": 19,
   "id": "297dd94a-549a-401c-8a81-037a370d8444",
   "metadata": {},
   "outputs": [],
   "source": [
    "from sklearn.model_selection import ParameterGrid\n",
    "\n",
    "\n",
    "param_grid = {'smoothing_level': [0.10, 0.20,.30,.40,.50,.60,.70,.80,.90], \n",
    "              'smoothing_slope':[0.10, 0.20,.30,.40,.50,.60,.70,.80,.90],\n",
    "              'damping_slope': [0.10, 0.20,.30,.40,.50,.60,.70,.80,.90],\n",
    "              'damped' : [True, False]}\n",
    "\n",
    "pg = list(ParameterGrid(param_grid))"
   ]
  },
  {
   "cell_type": "code",
   "execution_count": 36,
   "id": "4cf3a1e7-6c4d-4159-afca-b03b6c7e1575",
   "metadata": {},
   "outputs": [
    {
     "name": "stdout",
     "output_type": "stream",
     "text": [
      "0.1 None None None\n",
      "0.2 None None None\n",
      "0.3 None None None\n",
      "0.4 None None None\n",
      "0.5 None None None\n",
      "0.6 None None None\n",
      "0.7 None None None\n",
      "0.8 None None None\n",
      "0.9 None None None\n",
      "Total time taken to complete grid search in seconds: 0.21\n"
     ]
    }
   ],
   "source": [
    "from statsmodels.tsa.holtwinters import Holt\n",
    "from sklearn import metrics\n",
    "import numpy as np\n",
    "import pandas as pd\n",
    "from timeit import default_timer as timer\n",
    "\n",
    "# Define parameter grid for search\n",
    "pg = [{'smoothing_level': sl, 'smoothing_trend': None, 'damping_trend': None, 'damped_trend': None}\n",
    "      for sl in np.round(np.arange(0.1, 1.0, 0.1), 2)]  # Clean grid, no duplicates\n",
    "\n",
    "# Initialize empty DataFrame with correct dtypes\n",
    "df_results_moni = pd.DataFrame({\n",
    "    'smoothing_level': pd.Series(dtype='float'),\n",
    "    'smoothing_trend': pd.Series(dtype='float'),\n",
    "    'damping_trend': pd.Series(dtype='float'),\n",
    "    'damped_trend': pd.Series(dtype='bool'),\n",
    "    'RMSE': pd.Series(dtype='float'),\n",
    "    'r2': pd.Series(dtype='float')\n",
    "})\n",
    "\n",
    "\n",
    "start = timer()\n",
    "\n",
    "for a, b in enumerate(pg):\n",
    "    smoothing_level = b.get('smoothing_level')\n",
    "    smoothing_trend = b.get('smoothing_trend')\n",
    "    damping_trend = b.get('damping_trend')\n",
    "    damped_trend = b.get('damped_trend')\n",
    "\n",
    "    print(smoothing_level, smoothing_trend, damping_trend, damped_trend)\n",
    "\n",
    "    # Fit the model using optimized=True when any parameter is None\n",
    "    if None in [smoothing_level, smoothing_trend, damping_trend]:\n",
    "        fit1 = Holt(train, damped_trend=damped_trend).fit(optimized=True)\n",
    "    else:\n",
    "        fit1 = Holt(train, damped_trend=damped_trend).fit(\n",
    "            smoothing_level=smoothing_level,\n",
    "            smoothing_trend=smoothing_trend,\n",
    "            damping_trend=damping_trend,\n",
    "            optimized=False\n",
    "        )\n",
    "\n",
    "    # Forecast and evaluate\n",
    "    z = fit1.forecast(30)\n",
    "    df_pred = pd.DataFrame(z, columns=['Forecasted_result'])\n",
    "\n",
    "    RMSE = np.sqrt(metrics.mean_squared_error(test, df_pred.Forecasted_result))\n",
    "    r2 = metrics.r2_score(test, df_pred.Forecasted_result)\n",
    "\n",
    "    # Create the new row as a DataFrame\n",
    "    new_row = pd.DataFrame([{\n",
    "        'smoothing_level': smoothing_level,\n",
    "        'smoothing_trend': smoothing_trend,\n",
    "        'damping_trend': damping_trend,\n",
    "        'damped_trend': damped_trend,\n",
    "        'RMSE': RMSE,\n",
    "        'r2': r2\n",
    "    }])\n",
    "\n",
    "    # Concatenate with the main results DataFrame\n",
    "    df_results_moni = pd.concat([df_results_moni, new_row], ignore_index=True)\n",
    "\n",
    "end = timer()\n",
    "\n",
    "print(f'Total time taken to complete grid search in seconds: {(end - start):.2f}')"
   ]
  },
  {
   "cell_type": "code",
   "execution_count": 38,
   "id": "f7fbafae-b005-4f0b-8700-2be1087ea67c",
   "metadata": {},
   "outputs": [
    {
     "name": "stdout",
     "output_type": "stream",
     "text": [
      " Below mentioned parameter gives least RMSE and r2\n"
     ]
    },
    {
     "data": {
      "text/html": [
       "<div>\n",
       "<style scoped>\n",
       "    .dataframe tbody tr th:only-of-type {\n",
       "        vertical-align: middle;\n",
       "    }\n",
       "\n",
       "    .dataframe tbody tr th {\n",
       "        vertical-align: top;\n",
       "    }\n",
       "\n",
       "    .dataframe thead th {\n",
       "        text-align: right;\n",
       "    }\n",
       "</style>\n",
       "<table border=\"1\" class=\"dataframe\">\n",
       "  <thead>\n",
       "    <tr style=\"text-align: right;\">\n",
       "      <th></th>\n",
       "      <th>smoothing_level</th>\n",
       "      <th>smoothing_trend</th>\n",
       "      <th>damping_trend</th>\n",
       "      <th>damped_trend</th>\n",
       "      <th>RMSE</th>\n",
       "      <th>r2</th>\n",
       "    </tr>\n",
       "  </thead>\n",
       "  <tbody>\n",
       "    <tr>\n",
       "      <th>0</th>\n",
       "      <td>0.1</td>\n",
       "      <td>None</td>\n",
       "      <td>None</td>\n",
       "      <td>None</td>\n",
       "      <td>8.162461</td>\n",
       "      <td>-2.640197</td>\n",
       "    </tr>\n",
       "  </tbody>\n",
       "</table>\n",
       "</div>"
      ],
      "text/plain": [
       "   smoothing_level smoothing_trend damping_trend damped_trend      RMSE  \\\n",
       "0              0.1            None          None         None  8.162461   \n",
       "\n",
       "         r2  \n",
       "0 -2.640197  "
      ]
     },
     "execution_count": 38,
     "metadata": {},
     "output_type": "execute_result"
    }
   ],
   "source": [
    "print(f' Below mentioned parameter gives least RMSE and r2')\n",
    "df_results_moni.sort_values(by=['RMSE','r2']).head(1)"
   ]
  },
  {
   "cell_type": "code",
   "execution_count": 42,
   "id": "e5b98142-b1d7-4956-9a68-b37e82c4e7fe",
   "metadata": {},
   "outputs": [
    {
     "data": {
      "text/html": [
       "<table class=\"simpletable\">\n",
       "<caption>Holt Model Results</caption>\n",
       "<tr>\n",
       "  <th>Dep. Variable:</th>      <td>Close</td>  <th>  No. Observations:  </th>       <td>1229</td>      \n",
       "</tr>\n",
       "<tr>\n",
       "  <th>Model:</th>              <td>Holt</td>   <th>  SSE                </th>     <td>12220.966</td>   \n",
       "</tr>\n",
       "<tr>\n",
       "  <th>Optimized:</th>          <td>False</td>  <th>  AIC                </th>     <td>2830.954</td>    \n",
       "</tr>\n",
       "<tr>\n",
       "  <th>Trend:</th>            <td>Additive</td> <th>  BIC                </th>     <td>2851.410</td>    \n",
       "</tr>\n",
       "<tr>\n",
       "  <th>Seasonal:</th>           <td>None</td>   <th>  AICC               </th>     <td>2831.023</td>    \n",
       "</tr>\n",
       "<tr>\n",
       "  <th>Seasonal Periods:</th>   <td>None</td>   <th>  Date:              </th> <td>Wed, 09 Apr 2025</td>\n",
       "</tr>\n",
       "<tr>\n",
       "  <th>Box-Cox:</th>            <td>False</td>  <th>  Time:              </th>     <td>16:02:08</td>    \n",
       "</tr>\n",
       "<tr>\n",
       "  <th>Box-Cox Coeff.:</th>     <td>None</td>   <th>                     </th>         <td> </td>       \n",
       "</tr>\n",
       "</table>\n",
       "<table class=\"simpletable\">\n",
       "<tr>\n",
       "         <td></td>                 <th>coeff</th>                <th>code</th>               <th>optimized</th>     \n",
       "</tr>\n",
       "<tr>\n",
       "  <th>smoothing_level</th> <td>           0.9000000</td> <td>               alpha</td> <td>               False</td>\n",
       "</tr>\n",
       "<tr>\n",
       "  <th>smoothing_trend</th> <td>           0.6000000</td> <td>                beta</td> <td>               False</td>\n",
       "</tr>\n",
       "<tr>\n",
       "  <th>initial_level</th>   <td>           76.519997</td> <td>                 l.0</td> <td>               False</td>\n",
       "</tr>\n",
       "<tr>\n",
       "  <th>initial_trend</th>   <td>           0.3199990</td> <td>                 b.0</td> <td>               False</td>\n",
       "</tr>\n",
       "</table>"
      ],
      "text/latex": [
       "\\begin{center}\n",
       "\\begin{tabular}{lclc}\n",
       "\\toprule\n",
       "\\textbf{Dep. Variable:}    &        Close         & \\textbf{  No. Observations:  } &         1229          \\\\\n",
       "\\textbf{Model:}            &         Holt         & \\textbf{  SSE                } &      12220.966        \\\\\n",
       "\\textbf{Optimized:}        &        False         & \\textbf{  AIC                } &       2830.954        \\\\\n",
       "\\textbf{Trend:}            &       Additive       & \\textbf{  BIC                } &       2851.410        \\\\\n",
       "\\textbf{Seasonal:}         &         None         & \\textbf{  AICC               } &       2831.023        \\\\\n",
       "\\textbf{Seasonal Periods:} &         None         & \\textbf{  Date:              } &   Wed, 09 Apr 2025    \\\\\n",
       "\\textbf{Box-Cox:}          &        False         & \\textbf{  Time:              } &       16:02:08        \\\\\n",
       "\\textbf{Box-Cox Coeff.:}   &         None         & \\textbf{                     } &                       \\\\\n",
       "\\bottomrule\n",
       "\\end{tabular}\n",
       "\\begin{tabular}{lccc}\n",
       "                          &    \\textbf{coeff}    &    \\textbf{code}     &  \\textbf{optimized}   \\\\\n",
       "\\midrule\n",
       "\\textbf{smoothing\\_level} &            0.9000000 &                alpha &                False  \\\\\n",
       "\\textbf{smoothing\\_trend} &            0.6000000 &                 beta &                False  \\\\\n",
       "\\textbf{initial\\_level}   &            76.519997 &                  l.0 &                False  \\\\\n",
       "\\textbf{initial\\_trend}   &            0.3199990 &                  b.0 &                False  \\\\\n",
       "\\bottomrule\n",
       "\\end{tabular}\n",
       "%\\caption{Holt Model Results}\n",
       "\\end{center}"
      ],
      "text/plain": [
       "<class 'statsmodels.iolib.summary.Summary'>\n",
       "\"\"\"\n",
       "                              Holt Model Results                              \n",
       "==============================================================================\n",
       "Dep. Variable:                  Close   No. Observations:                 1229\n",
       "Model:                           Holt   SSE                          12220.966\n",
       "Optimized:                      False   AIC                           2830.954\n",
       "Trend:                       Additive   BIC                           2851.410\n",
       "Seasonal:                        None   AICC                          2831.023\n",
       "Seasonal Periods:                None   Date:                 Wed, 09 Apr 2025\n",
       "Box-Cox:                        False   Time:                         16:02:08\n",
       "Box-Cox Coeff.:                  None                                         \n",
       "==============================================================================\n",
       "                       coeff                 code              optimized      \n",
       "------------------------------------------------------------------------------\n",
       "smoothing_level            0.9000000                alpha                False\n",
       "smoothing_trend            0.6000000                 beta                False\n",
       "initial_level              76.519997                  l.0                False\n",
       "initial_trend              0.3199990                  b.0                False\n",
       "------------------------------------------------------------------------------\n",
       "\"\"\""
      ]
     },
     "execution_count": 42,
     "metadata": {},
     "output_type": "execute_result"
    }
   ],
   "source": [
    "# Fit the Holt’s Linear Trend model\n",
    "fit1 = Holt(train,damped_trend =False ).fit(smoothing_level=0.9,    # Weight for the level component\n",
    "                                            smoothing_trend=0.6,    # Weight for the trend component\n",
    "                                            damping_trend = 0.1 ,   # Damping factor applied to the trend\n",
    "                                            optimized=False)        # Do not optimize automatically, use the given values\n",
    "\n",
    "# Forecast the next 30 time periods using the fitted model\n",
    "Forecast_custom_pred = fit1.forecast(30)\n",
    "\n",
    "# Display a summary of the fitted model parameters and statistics\n",
    "fit1.summary()"
   ]
  },
  {
   "cell_type": "code",
   "execution_count": 46,
   "id": "29cb19cf-bb24-4d5a-af05-7ce5fa2634f6",
   "metadata": {},
   "outputs": [
    {
     "name": "stdout",
     "output_type": "stream",
     "text": [
      "Evaluation metric results:-\n",
      " MSE is : 4.737090445686715\n",
      " MAE is : 1.8121525217302623\n",
      "RMSE is : 2.1764858018573694\n",
      "MAPE is : 0.9266024548104875\n",
      "  R2 is : 0.7411820826314525\n",
      "\n"
     ]
    }
   ],
   "source": [
    "# Evaluate the forecasted values against the actual test data\n",
    "timeseries_evaluation_metrics_func(test,Forecast_custom_pred)"
   ]
  },
  {
   "cell_type": "code",
   "execution_count": 44,
   "id": "e21e96d0-9d6f-4c56-bd86-780a8d3432ed",
   "metadata": {},
   "outputs": [
    {
     "data": {
      "text/html": [
       "<table class=\"simpletable\">\n",
       "<caption>Holt Model Results</caption>\n",
       "<tr>\n",
       "  <th>Dep. Variable:</th>      <td>Close</td>  <th>  No. Observations:  </th>       <td>1229</td>      \n",
       "</tr>\n",
       "<tr>\n",
       "  <th>Model:</th>              <td>Holt</td>   <th>  SSE                </th>     <td>8984.644</td>    \n",
       "</tr>\n",
       "<tr>\n",
       "  <th>Optimized:</th>          <td>True</td>   <th>  AIC                </th>     <td>2452.869</td>    \n",
       "</tr>\n",
       "<tr>\n",
       "  <th>Trend:</th>            <td>Additive</td> <th>  BIC                </th>     <td>2473.325</td>    \n",
       "</tr>\n",
       "<tr>\n",
       "  <th>Seasonal:</th>           <td>None</td>   <th>  AICC               </th>     <td>2452.938</td>    \n",
       "</tr>\n",
       "<tr>\n",
       "  <th>Seasonal Periods:</th>   <td>None</td>   <th>  Date:              </th> <td>Wed, 09 Apr 2025</td>\n",
       "</tr>\n",
       "<tr>\n",
       "  <th>Box-Cox:</th>            <td>False</td>  <th>  Time:              </th>     <td>16:06:17</td>    \n",
       "</tr>\n",
       "<tr>\n",
       "  <th>Box-Cox Coeff.:</th>     <td>None</td>   <th>                     </th>         <td> </td>       \n",
       "</tr>\n",
       "</table>\n",
       "<table class=\"simpletable\">\n",
       "<tr>\n",
       "         <td></td>                 <th>coeff</th>                <th>code</th>               <th>optimized</th>     \n",
       "</tr>\n",
       "<tr>\n",
       "  <th>smoothing_level</th> <td>           0.9811694</td> <td>               alpha</td> <td>                True</td>\n",
       "</tr>\n",
       "<tr>\n",
       "  <th>smoothing_trend</th> <td>           0.0018245</td> <td>                beta</td> <td>                True</td>\n",
       "</tr>\n",
       "<tr>\n",
       "  <th>initial_level</th>   <td>           76.519997</td> <td>                 l.0</td> <td>               False</td>\n",
       "</tr>\n",
       "<tr>\n",
       "  <th>initial_trend</th>   <td>           0.3199990</td> <td>                 b.0</td> <td>               False</td>\n",
       "</tr>\n",
       "</table>"
      ],
      "text/latex": [
       "\\begin{center}\n",
       "\\begin{tabular}{lclc}\n",
       "\\toprule\n",
       "\\textbf{Dep. Variable:}    &        Close         & \\textbf{  No. Observations:  } &         1229          \\\\\n",
       "\\textbf{Model:}            &         Holt         & \\textbf{  SSE                } &       8984.644        \\\\\n",
       "\\textbf{Optimized:}        &         True         & \\textbf{  AIC                } &       2452.869        \\\\\n",
       "\\textbf{Trend:}            &       Additive       & \\textbf{  BIC                } &       2473.325        \\\\\n",
       "\\textbf{Seasonal:}         &         None         & \\textbf{  AICC               } &       2452.938        \\\\\n",
       "\\textbf{Seasonal Periods:} &         None         & \\textbf{  Date:              } &   Wed, 09 Apr 2025    \\\\\n",
       "\\textbf{Box-Cox:}          &        False         & \\textbf{  Time:              } &       16:06:17        \\\\\n",
       "\\textbf{Box-Cox Coeff.:}   &         None         & \\textbf{                     } &                       \\\\\n",
       "\\bottomrule\n",
       "\\end{tabular}\n",
       "\\begin{tabular}{lccc}\n",
       "                          &    \\textbf{coeff}    &    \\textbf{code}     &  \\textbf{optimized}   \\\\\n",
       "\\midrule\n",
       "\\textbf{smoothing\\_level} &            0.9811694 &                alpha &                 True  \\\\\n",
       "\\textbf{smoothing\\_trend} &            0.0018245 &                 beta &                 True  \\\\\n",
       "\\textbf{initial\\_level}   &            76.519997 &                  l.0 &                False  \\\\\n",
       "\\textbf{initial\\_trend}   &            0.3199990 &                  b.0 &                False  \\\\\n",
       "\\bottomrule\n",
       "\\end{tabular}\n",
       "%\\caption{Holt Model Results}\n",
       "\\end{center}"
      ],
      "text/plain": [
       "<class 'statsmodels.iolib.summary.Summary'>\n",
       "\"\"\"\n",
       "                              Holt Model Results                              \n",
       "==============================================================================\n",
       "Dep. Variable:                  Close   No. Observations:                 1229\n",
       "Model:                           Holt   SSE                           8984.644\n",
       "Optimized:                       True   AIC                           2452.869\n",
       "Trend:                       Additive   BIC                           2473.325\n",
       "Seasonal:                        None   AICC                          2452.938\n",
       "Seasonal Periods:                None   Date:                 Wed, 09 Apr 2025\n",
       "Box-Cox:                        False   Time:                         16:06:17\n",
       "Box-Cox Coeff.:                  None                                         \n",
       "==============================================================================\n",
       "                       coeff                 code              optimized      \n",
       "------------------------------------------------------------------------------\n",
       "smoothing_level            0.9811694                alpha                 True\n",
       "smoothing_trend            0.0018245                 beta                 True\n",
       "initial_level              76.519997                  l.0                False\n",
       "initial_trend              0.3199990                  b.0                False\n",
       "------------------------------------------------------------------------------\n",
       "\"\"\""
      ]
     },
     "execution_count": 44,
     "metadata": {},
     "output_type": "execute_result"
    }
   ],
   "source": [
    "# Automated Parameter\n",
    "fitESAUTO = Holt(train).fit(optimized= True, use_brute = True)\n",
    "\n",
    "# Display Summary\n",
    "fitESAUTO.summary()"
   ]
  },
  {
   "cell_type": "code",
   "execution_count": 47,
   "id": "bf3c959b-1f0e-482e-9da8-c27e00032763",
   "metadata": {},
   "outputs": [
    {
     "name": "stdout",
     "output_type": "stream",
     "text": [
      "Evaluation metric results:-\n",
      " MSE is : 66.62577239307849\n",
      " MAE is : 7.363639780981525\n",
      "RMSE is : 8.162461172531144\n",
      "MAPE is : 3.7330860308261653\n",
      "  R2 is : -2.640197258540557\n",
      "\n"
     ]
    }
   ],
   "source": [
    "# Forecast the next 30 time periods using the automatically fitted exponential smoothing model\n",
    "fitESAUTOpred = fitESAUTO.forecast(30)\n",
    "\n",
    "# Evaluate the forecasted values against the actual test data\n",
    "timeseries_evaluation_metrics_func(test,fitESAUTOpred)"
   ]
  },
  {
   "cell_type": "code",
   "execution_count": 48,
   "id": "4b18a1d1-4f0f-4804-874f-77d77d7f3b2d",
   "metadata": {},
   "outputs": [
    {
     "data": {
      "image/png": "[encoded data removed]",
      "text/plain": [
       "<Figure size 1200x600 with 1 Axes>"
      ]
     },
     "metadata": {},
     "output_type": "display_data"
    }
   ],
   "source": [
    "# Plot actual and fitted serie\n",
    "plt.figure(figsize=(12, 6))                                      \n",
    "\n",
    "plt.plot( train, label='Train')\n",
    "plt.plot(test, label='Test')\n",
    "plt.plot(fitESAUTOpred, label='Automated grid search')\n",
    "plt.plot(Forecast_custom_pred, label='Double Exponential Smoothing with custom grid search')\n",
    "\n",
    "plt.title('Facebook Stock Price')                      \n",
    "plt.xlabel('Time')                                        \n",
    "plt.ylabel('Stock Price')\n",
    "plt.xlim(0,1258)\n",
    "plt.grid(True)                                            \n",
    "plt.legend()                                             \n",
    "plt.tight_layout()                                       \n",
    "plt.show();"
   ]
  },
  {
   "cell_type": "code",
   "execution_count": null,
   "id": "5b850e75-6cd5-498f-a9a4-577478cab8c0",
   "metadata": {},
   "outputs": [],
   "source": []
  }
 ],
 "metadata": {
  "kernelspec": {
   "display_name": "Python 3 (ipykernel)",
   "language": "python",
   "name": "python3"
  },
  "language_info": {
   "codemirror_mode": {
    "name": "ipython",
    "version": 3
   },
   "file_extension": ".py",
   "mimetype": "text/x-python",
   "name": "python",
   "nbconvert_exporter": "python",
   "pygments_lexer": "ipython3",
   "version": "3.12.7"
  }
 },
 "nbformat": 4,
 "nbformat_minor": 5
}
